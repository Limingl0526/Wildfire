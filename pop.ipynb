{
 "cells": [
  {
   "cell_type": "code",
   "execution_count": 4,
   "metadata": {},
   "outputs": [
    {
     "name": "stdout",
     "output_type": "stream",
     "text": [
      "               Geography                                   Label for GEO_ID  \\\n",
      "0  1500000US060014001001  Block Group 1, Census Tract 4001, Alameda Coun...   \n",
      "1  1500000US060014002001  Block Group 1, Census Tract 4002, Alameda Coun...   \n",
      "2  1500000US060014002002  Block Group 2, Census Tract 4002, Alameda Coun...   \n",
      "3  1500000US060014003001  Block Group 1, Census Tract 4003, Alameda Coun...   \n",
      "4  1500000US060014003002  Block Group 2, Census Tract 4003, Alameda Coun...   \n",
      "\n",
      "   Total  Total!!Urban  Total!!Urban!!Inside urbanized areas  \\\n",
      "0   1177          1122                                  1122   \n",
      "1    451           451                                   451   \n",
      "2    422           422                                   422   \n",
      "3    529           529                                   529   \n",
      "4    698           698                                   698   \n",
      "\n",
      "   Total!!Urban!!Inside urban clusters  Total!!Rural  Total!!Filler  \n",
      "0                                    0            55              0  \n",
      "1                                    0             0              0  \n",
      "2                                    0             0              0  \n",
      "3                                    0             0              0  \n",
      "4                                    0             0              0  \n"
     ]
    },
    {
     "name": "stderr",
     "output_type": "stream",
     "text": [
      "C:\\Users\\86900\\AppData\\Local\\Temp\\ipykernel_48360\\3870716246.py:41: SettingWithCopyWarning: \n",
      "A value is trying to be set on a copy of a slice from a DataFrame.\n",
      "Try using .loc[row_indexer,col_indexer] = value instead\n",
      "\n",
      "See the caveats in the documentation: https://pandas.pydata.org/pandas-docs/stable/user_guide/indexing.html#returning-a-view-versus-a-copy\n",
      "  sample_df['County'] = sample_df['Geography'].apply(lambda x: x.split(\", \")[-1] if isinstance(x, str) else '')\n",
      "C:\\Users\\86900\\AppData\\Local\\Temp\\ipykernel_48360\\3870716246.py:44: SettingWithCopyWarning: \n",
      "A value is trying to be set on a copy of a slice from a DataFrame.\n",
      "Try using .loc[row_indexer,col_indexer] = value instead\n",
      "\n",
      "See the caveats in the documentation: https://pandas.pydata.org/pandas-docs/stable/user_guide/indexing.html#returning-a-view-versus-a-copy\n",
      "  sample_df[['Latitude', 'Longitude']] = sample_df.apply(lambda row: get_lat_lng(row['Label for GEO_ID'], row['County']), axis=1)\n",
      "C:\\Users\\86900\\AppData\\Local\\Temp\\ipykernel_48360\\3870716246.py:44: SettingWithCopyWarning: \n",
      "A value is trying to be set on a copy of a slice from a DataFrame.\n",
      "Try using .loc[row_indexer,col_indexer] = value instead\n",
      "\n",
      "See the caveats in the documentation: https://pandas.pydata.org/pandas-docs/stable/user_guide/indexing.html#returning-a-view-versus-a-copy\n",
      "  sample_df[['Latitude', 'Longitude']] = sample_df.apply(lambda row: get_lat_lng(row['Label for GEO_ID'], row['County']), axis=1)\n"
     ]
    },
    {
     "name": "stdout",
     "output_type": "stream",
     "text": [
      "               Geography                                   Label for GEO_ID  \\\n",
      "0  1500000US060014001001  Block Group 1, Census Tract 4001, Alameda Coun...   \n",
      "1  1500000US060014002001  Block Group 1, Census Tract 4002, Alameda Coun...   \n",
      "2  1500000US060014002002  Block Group 2, Census Tract 4002, Alameda Coun...   \n",
      "3  1500000US060014003001  Block Group 1, Census Tract 4003, Alameda Coun...   \n",
      "4  1500000US060014003002  Block Group 2, Census Tract 4003, Alameda Coun...   \n",
      "\n",
      "   Total  Total!!Urban  Total!!Urban!!Inside urbanized areas  \\\n",
      "0   1177          1122                                  1122   \n",
      "1    451           451                                   451   \n",
      "2    422           422                                   422   \n",
      "3    529           529                                   529   \n",
      "4    698           698                                   698   \n",
      "\n",
      "   Total!!Urban!!Inside urban clusters  Total!!Rural  Total!!Filler  \\\n",
      "0                                    0            55              0   \n",
      "1                                    0             0              0   \n",
      "2                                    0             0              0   \n",
      "3                                    0             0              0   \n",
      "4                                    0             0              0   \n",
      "\n",
      "                  County   Latitude  Longitude  \n",
      "0  1500000US060014001001  18.380701 -67.190324  \n",
      "1  1500000US060014002001  18.380701 -67.190324  \n",
      "2  1500000US060014002002  18.380701 -67.190324  \n",
      "3  1500000US060014003001  18.380701 -67.190324  \n",
      "4  1500000US060014003002  18.380701 -67.190324  \n"
     ]
    }
   ],
   "source": [
    "\n",
    "import pandas as pd\n",
    "from arcgis.gis import GIS\n",
    "from arcgis.geocoding import geocode\n",
    "import time\n",
    "\n",
    "# 读取CSV文件\n",
    "df = pd.read_csv(\"D:/wildfire/population_2000.csv\").head(5)\n",
    "\n",
    "# 显示前几行以检查数据\n",
    "print(df.head())\n",
    "\n",
    "# 实例化 ArcGIS\n",
    "gis = GIS(\"https://www.arcgis.com\", anonymous=True)\n",
    "\n",
    "# 定义获取经纬度函数\n",
    "def get_lat_lng(label_for_geoid, county, retries=3):\n",
    "    try:\n",
    "        # 使用输入的 Label for GEO_ID 和 County 构建地址\n",
    "        address = f'{label_for_geoid}, {county}, California'\n",
    "        \n",
    "        # 使用 ArcGIS geocode\n",
    "        results = geocode(address, max_locations=1)\n",
    "        \n",
    "        if results:\n",
    "            location = results[0]['location']\n",
    "            return pd.Series([location['y'], location['x']])\n",
    "        else:\n",
    "            return pd.Series([None, None])\n",
    "    except Exception as e:\n",
    "        if retries > 0:\n",
    "            return get_lat_lng(label_for_geoid, county, retries - 1)\n",
    "        else:\n",
    "            print(f\"Error in geocoding Label for GEO_ID {label_for_geoid}, County {county}: {e}\")\n",
    "            return pd.Series([None, None])\n",
    "\n",
    "# 提取DataFrame前几行进行演示\n",
    "sample_df = df.head()\n",
    "\n",
    "# 解析 Geography 列来获取 County 信息（假设 Geography 包含县的信息）\n",
    "# 你需要根据数据格式来解析这一部分\n",
    "sample_df['County'] = sample_df['Geography'].apply(lambda x: x.split(\", \")[-1] if isinstance(x, str) else '')\n",
    "\n",
    "# 为每个 Label for GEO_ID 和 County 进行地理编码\n",
    "sample_df[['Latitude', 'Longitude']] = sample_df.apply(lambda row: get_lat_lng(row['Label for GEO_ID'], row['County']), axis=1)\n",
    "\n",
    "# 引入延迟以避免触发速率限制\n",
    "time_interval = 1\n",
    "time.sleep(time_interval)\n",
    "\n",
    "# 打印处理后的数据\n",
    "print(sample_df)\n",
    "\n",
    "# 将结果保存为新的CSV文件\n",
    "sample_df.to_csv('D:/wildfire/Pop_lat_lng_sample.csv', index=False)"
   ]
  },
  {
   "cell_type": "code",
   "execution_count": 5,
   "metadata": {},
   "outputs": [
    {
     "name": "stderr",
     "output_type": "stream",
     "text": [
      "C:\\Users\\86900\\AppData\\Local\\Temp\\ipykernel_48360\\2761112400.py:10: DtypeWarning: Columns (341,343,349,350) have mixed types. Specify dtype option on import or set low_memory=False.\n",
      "  df = pd.read_csv(input_csv)\n"
     ]
    }
   ],
   "source": [
    "import pandas as pd\n",
    "\n",
    "# 定义输入 CSV 文件的路径\n",
    "input_csv = 'D:/wildfire/GIS/pop.csv'\n",
    "\n",
    "# 定义输出 CSV 文件的路径\n",
    "output_csv = 'D:/wildfire/GIS/pop_new.csv'\n",
    "\n",
    "# 读取 CSV 文件\n",
    "df = pd.read_csv(input_csv)\n",
    "\n",
    "# 提取所需的列\n",
    "columns_to_extract = [\"Geographic_Record_Identifier\", \"Internal_Point__Latitude_\", \"Internal_Point__Longitude_\"]\n",
    "new_df = df[columns_to_extract]\n",
    "\n",
    "# 将新表格写入新的 CSV 文件\n",
    "new_df.to_csv(output_csv, index=False)"
   ]
  }
 ],
 "metadata": {
  "kernelspec": {
   "display_name": "Python 3",
   "language": "python",
   "name": "python3"
  },
  "language_info": {
   "codemirror_mode": {
    "name": "ipython",
    "version": 3
   },
   "file_extension": ".py",
   "mimetype": "text/x-python",
   "name": "python",
   "nbconvert_exporter": "python",
   "pygments_lexer": "ipython3",
   "version": "3.10.11"
  }
 },
 "nbformat": 4,
 "nbformat_minor": 2
}
